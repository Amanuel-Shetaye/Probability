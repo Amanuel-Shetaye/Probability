{
 "cells": [
  {
   "cell_type": "code",
   "execution_count": 13,
   "metadata": {},
   "outputs": [
    {
     "name": "stdout",
     "output_type": "stream",
     "text": [
      "Paramiters: Proportion from B =0.9  Success Rate From A =0.5  Success Rate From B=0.99\n",
      "Out of 10,000 people, 9,405 were correctly identified.\n",
      "\t The fraction that were from group B was 0.8996.\n",
      "\t The fraction that were from group A was 0.1004.\n",
      "\t The proportion of people who were identified correctly from group B was 0.991.\n",
      "\t The proportion of people who were identified correctly from group A was 0.488.\n",
      "Answer to question 1:\n",
      "\t The proportion of people who were correctly identified in the entire population was 0.9405.\n",
      "Answer to question 2:\n",
      "\t The proportion of people who were from group A given they were misidentified was 0.8639.\n"
     ]
    }
   ],
   "source": [
    "import random as rnd \n",
    "\n",
    "def bernoulli(p):\n",
    "  x=rnd.random()\n",
    "  if x <= p :\n",
    "    return 1\n",
    "  else:\n",
    "    return 0\n",
    "\n",
    "numberSamples=10000\n",
    "\n",
    "fromB=0.9\n",
    "correctB=0.99\n",
    "correctA=0.50\n",
    "\n",
    "correctBcount=0\n",
    "correctAcount=0\n",
    "groupBcount=0\n",
    "groupAcount = 0\n",
    "\n",
    "for k in range(numberSamples):\n",
    "  if bernoulli(fromB)==1:\n",
    "    fromGroupB=True\n",
    "    groupBcount+=1\n",
    "  else:\n",
    "    fromGroupB=False\n",
    "    groupAcount += 1\n",
    "\n",
    "  if (fromGroupB and bernoulli(correctB)==1):\n",
    "    correctBcount+=1\n",
    "  if (not fromGroupB and bernoulli(correctA)==1):\n",
    "    correctAcount+=1\n",
    "\n",
    "correctlyIdentified =correctBcount+correctAcount\n",
    "incorrectlyIdentified = numberSamples - correctlyIdentified\n",
    "incorrectAcount = groupAcount-correctAcount\n",
    "\n",
    "print(\"Paramiters: Proportion from B ={:}  Success Rate From A ={:}  Success Rate From B={:}\".format(fromB,correctA,correctB))\n",
    "print(\"Out of {:,} people, {:,} were correctly identified.\".format(numberSamples,correctlyIdentified))\n",
    "print(\"\\t The fraction that were from group B was {:1.4g}.\".format(groupBcount/numberSamples))\n",
    "print(\"\\t The fraction that were from group A was {:1.4g}.\".format(groupAcount/numberSamples))\n",
    "print(\"\\t The proportion of people who were identified correctly from group B was {:1.4g}.\".format(correctBcount/groupBcount))\n",
    "print(\"\\t The proportion of people who were identified correctly from group A was {:1.4g}.\".format(correctAcount/groupAcount))\n",
    "print(\"Answer to question 1:\")\n",
    "print(\"\\t The proportion of people who were correctly identified in the entire population was {:1.4g}.\".format((correctBcount+correctAcount)/numberSamples))\n",
    "print(\"Answer to question 2:\")\n",
    "print(\"\\t The proportion of people who were from group A given they were misidentified was {:1.4g}.\".format(incorrectAcount/incorrectlyIdentified))\n",
    "\n",
    "#print(\"\\t The fraction positve that were false positives was {:1.4g}.\".format(numFalsePositives/numPositives))\n",
    "#print()\n",
    "#print(\"Hence, if someone tests positive, we observed \\n\\t a {:2.2g}% chance they had the disease.\".format(100*numTruePositives/numPositives))"
   ]
  },
  {
   "cell_type": "markdown",
   "metadata": {},
   "source": [
    "5.1 1"
   ]
  },
  {
   "cell_type": "code",
   "execution_count": 36,
   "metadata": {},
   "outputs": [
    {
     "name": "stdout",
     "output_type": "stream",
     "text": [
      "The probability of rolling a even number on a 6 sided dice over 70% of the time\n"
     ]
    },
    {
     "data": {
      "text/markdown": [
       "|   Number of trials | Interval      |   Probability |\n",
       "|-------------------:|:--------------|--------------:|\n",
       "|                 10 | [7.0, 10]     |   0.171875    |\n",
       "|                100 | [70.0, 100]   |   3.92507e-05 |\n",
       "|               1000 | [700.0, 1000] |   0           |"
      ],
      "text/plain": [
       "<IPython.core.display.Markdown object>"
      ]
     },
     "metadata": {},
     "output_type": "display_data"
    }
   ],
   "source": [
    "import math \n",
    "import scipy.integrate as integrate\n",
    "from scipy.stats import binom\n",
    "from scipy.stats import norm\n",
    "from IPython.display import Markdown # Needed for the Markdown\n",
    "from tabulate import tabulate\n",
    "\n",
    "def binomialProb(k,n,p):\n",
    "  return binom.pmf(k,n,p)\n",
    "  \n",
    "def phi(x,mu,sigma):\n",
    "  return math.exp(-1/2*((x-mu)**2)/(sigma**2))/(math.sqrt(2*math.pi)*sigma)\n",
    "\n",
    "def sumProb(X,P,a,b):\n",
    "  PinInterval=[ p for (x,p) in zip(X,P) if ((x >= a) and (x<=b)) ]\n",
    "  return sum(PinInterval)\n",
    "\n",
    "\n",
    "p0=.5\n",
    "parameters=[(10,p0),(100,p0),(1000,p0)]\n",
    "rows=int(len(parameters)/2.0+.9999)\n",
    "table  = []\n",
    "for figureNum, (n,p) in enumerate(parameters):\n",
    "    K=[x for x in range(n+1)]\n",
    "    B =[binomialProb(k,n,p)  for k in K ]\n",
    "    sigma=math.sqrt(p*n*(1-p))\n",
    "    mu=n*p\n",
    "    intervals=[(0.7*n,n)]\n",
    "\n",
    "\n",
    "    binomialRow=[f\"Binomial({n},{p})\"] # Put the row name in the vetor\n",
    "\n",
    "    for (a,b) in intervals:\n",
    "        binomialSum=sumProb(K,B,a,b)\n",
    "\n",
    "        table.append([b,f\"[{a}, {b}]\", f\"{binomialSum:.10f}\"])\n",
    "print(r\"The probability of rolling a even number on a 6 sided dice over 70% of the time\")\n",
    "display(Markdown(tabulate(table,headers=[\"Number of trials\",\"Interval\",\"Probability\"],tablefmt=\"pipe\")))"
   ]
  },
  {
   "cell_type": "markdown",
   "metadata": {},
   "source": [
    "5.1 2"
   ]
  },
  {
   "cell_type": "code",
   "execution_count": 35,
   "metadata": {},
   "outputs": [
    {
     "name": "stdout",
     "output_type": "stream",
     "text": [
      "The probability of rolling a 1 over 20% of the time\n"
     ]
    },
    {
     "data": {
      "text/markdown": [
       "|   Number of trials | Interval    |   Probability |\n",
       "|-------------------:|:------------|--------------:|\n",
       "|                 10 | [2, 10]     |    0.515483   |\n",
       "|                100 | [20, 100]   |    0.21975    |\n",
       "|               1000 | [200, 1000] |    0.00318808 |"
      ],
      "text/plain": [
       "<IPython.core.display.Markdown object>"
      ]
     },
     "metadata": {},
     "output_type": "display_data"
    }
   ],
   "source": [
    "import math \n",
    "import scipy.integrate as integrate\n",
    "from scipy.stats import binom\n",
    "from scipy.stats import norm\n",
    "from IPython.display import Markdown # Needed for the Markdown\n",
    "from tabulate import tabulate\n",
    "\n",
    "def binomialProb(k,n,p):\n",
    "  return binom.pmf(k,n,p)\n",
    "  \n",
    "def phi(x,mu,sigma):\n",
    "  return math.exp(-1/2*((x-mu)**2)/(sigma**2))/(math.sqrt(2*math.pi)*sigma)\n",
    "\n",
    "def sumProb(X,P,a,b):\n",
    "  PinInterval=[ p for (x,p) in zip(X,P) if ((x >= a) and (x<=b)) ]\n",
    "  return sum(PinInterval)\n",
    "\n",
    "\n",
    "p0=(1/6)\n",
    "parameters=[(10,p0),(100,p0),(1000,p0)]\n",
    "rows=int(len(parameters)/2.0+.9999)\n",
    "table  = []\n",
    "for figureNum, (n,p) in enumerate(parameters):\n",
    "    K=[x for x in range(n+1)]\n",
    "    B =[binomialProb(k,n,p)  for k in K ]\n",
    "    sigma=math.sqrt(p*n*(1-p))\n",
    "    mu=n*p\n",
    "    intervals=[(math.ceil(0.2*n),n)]\n",
    "\n",
    "\n",
    "    binomialRow=[f\"Binomial({n},{p})\"] # Put the row name in the vetor\n",
    "\n",
    "    for (a,b) in intervals:\n",
    "        binomialSum=sumProb(K,B,a,b)\n",
    "\n",
    "        table.append([b,f\"[{a}, {b}]\", f\"{binomialSum:.10f}\"])\n",
    "\n",
    "print(r\"The probability of rolling a 1 over 20% of the time\")\n",
    "display(Markdown(tabulate(table,headers=[\"Number of trials\",\"Interval\",\"Probability\"],tablefmt=\"pipe\")))"
   ]
  },
  {
   "cell_type": "markdown",
   "metadata": {},
   "source": [
    "5.1 3"
   ]
  },
  {
   "cell_type": "code",
   "execution_count": 34,
   "metadata": {},
   "outputs": [
    {
     "name": "stdout",
     "output_type": "stream",
     "text": [
      "The probability of rolling a 1 on a 20 sided dice over 9% of the time\n"
     ]
    },
    {
     "data": {
      "text/markdown": [
       "|   Number of trials | Interval   |   Probability |\n",
       "|-------------------:|:-----------|--------------:|\n",
       "|                 10 | [1, 10]    |     0.401263  |\n",
       "|                100 | [9, 100]   |     0.0630896 |\n",
       "|               1000 | [90, 1000] |     9.74e-08  |"
      ],
      "text/plain": [
       "<IPython.core.display.Markdown object>"
      ]
     },
     "metadata": {},
     "output_type": "display_data"
    }
   ],
   "source": [
    "import math \n",
    "import scipy.integrate as integrate\n",
    "from scipy.stats import binom\n",
    "from scipy.stats import norm\n",
    "from IPython.display import Markdown # Needed for the Markdown\n",
    "from tabulate import tabulate\n",
    "\n",
    "def binomialProb(k,n,p):\n",
    "  return binom.pmf(k,n,p)\n",
    "  \n",
    "def phi(x,mu,sigma):\n",
    "  return math.exp(-1/2*((x-mu)**2)/(sigma**2))/(math.sqrt(2*math.pi)*sigma)\n",
    "\n",
    "def sumProb(X,P,a,b):\n",
    "  PinInterval=[ p for (x,p) in zip(X,P) if ((x >= a) and (x<=b)) ]\n",
    "  return sum(PinInterval)\n",
    "\n",
    "\n",
    "p0=(1/20)\n",
    "parameters=[(10,p0),(100,p0),(1000,p0)]\n",
    "rows=int(len(parameters)/2.0+.9999)\n",
    "table  = []\n",
    "for figureNum, (n,p) in enumerate(parameters):\n",
    "    K=[x for x in range(n+1)]\n",
    "    B =[binomialProb(k,n,p)  for k in K ]\n",
    "    sigma=math.sqrt(p*n*(1-p))\n",
    "    mu=n*p\n",
    "    intervals=[(math.ceil(0.09*n),n)]\n",
    "\n",
    "    binomialRow=[f\"Binomial({n},{p})\"] # Put the row name in the vetor\n",
    "\n",
    "    for (a,b) in intervals:\n",
    "        binomialSum=sumProb(K,B,a,b)\n",
    " \n",
    "        table.append([b,f\"[{a}, {b}]\", f\"{binomialSum:.10f}\"])\n",
    "\n",
    "\n",
    "print(r\"The probability of rolling a 1 on a 20 sided dice over 9% of the time\")\n",
    "display(Markdown(tabulate(table,headers=[\"Number of trials\",\"Interval\",\"Probability\"],tablefmt=\"pipe\")))"
   ]
  },
  {
   "cell_type": "markdown",
   "metadata": {},
   "source": [
    "5.1 4) normal approximation and continuity correction for part 1."
   ]
  },
  {
   "cell_type": "code",
   "execution_count": 37,
   "metadata": {},
   "outputs": [
    {
     "name": "stdout",
     "output_type": "stream",
     "text": [
      "The probability of rolling a even number on a 6 sided dice over 70% of the time\n"
     ]
    },
    {
     "data": {
      "text/markdown": [
       "|   Number of trials | Interval      |   Exact Probability |   Normal Probability Estimate |   Normal With Correction |\n",
       "|-------------------:|:--------------|--------------------:|------------------------------:|-------------------------:|\n",
       "|                 10 | [7.0, 10]     |         0.171875    |                   0.102169    |              0.171139    |\n",
       "|                100 | [70.0, 100]   |         3.92507e-05 |                   3.16712e-05 |              4.80963e-05 |\n",
       "|               1000 | [700.0, 1000] |         0           |                   0           |              0           |"
      ],
      "text/plain": [
       "<IPython.core.display.Markdown object>"
      ]
     },
     "metadata": {},
     "output_type": "display_data"
    }
   ],
   "source": [
    "import math \n",
    "import scipy.integrate as integrate\n",
    "from scipy.stats import binom\n",
    "from scipy.stats import norm\n",
    "from IPython.display import Markdown # Needed for the Markdown\n",
    "from tabulate import tabulate\n",
    "\n",
    "def binomialProb(k,n,p):\n",
    "  return binom.pmf(k,n,p)\n",
    "  \n",
    "def phi(x,mu,sigma):\n",
    "  return math.exp(-1/2*((x-mu)**2)/(sigma**2))/(math.sqrt(2*math.pi)*sigma)\n",
    "\n",
    "def sumProb(X,P,a,b):\n",
    "  PinInterval=[ p for (x,p) in zip(X,P) if ((x >= a) and (x<=b)) ]\n",
    "  return sum(PinInterval)\n",
    "\n",
    "\n",
    "p0=.5\n",
    "parameters=[(10,p0),(100,p0),(1000,p0)]\n",
    "rows=int(len(parameters)/2.0+.9999)\n",
    "table  = []\n",
    "for figureNum, (n,p) in enumerate(parameters):\n",
    "    K=[x for x in range(n+1)]\n",
    "    B =[binomialProb(k,n,p)  for k in K ]\n",
    "    sigma=math.sqrt(p*n*(1-p))\n",
    "    mu=n*p\n",
    "    intervals=[(0.7*n,n)]\n",
    "\n",
    "\n",
    "    binomialRow=[f\"Binomial({n},{p})\"] # Put the row name in the vetor\n",
    "    NormalRow=[f\"N({mu},{sigma:.2f})\"]# Put the row name in the vetor\n",
    "    NormalRowCC=[f\"N({mu},{sigma:.2f})+Cont. Corr. by integration\"] # Put the row name in the vetor\n",
    "    NormalRowCCcdf=[f\"N({mu},{sigma:.2f})+Cont. Corr. by cdf\"] # Put the row name in the vetor\n",
    "    header=[\"Method\"] # This is the row that will be the header row of the table\n",
    "    for (a,b) in intervals:\n",
    "        binomialSum=sumProb(K,B,a,b)\n",
    "        normalInt=integrate.quad((lambda x: phi(x,mu,sigma)), a, b)\n",
    "        normalIntCC=integrate.quad((lambda x: phi(x,mu,sigma)), a-.5, b+.5)\n",
    "        alpha=(a-.5-mu)/sigma\n",
    "        beta=(b+.5-mu)/sigma\n",
    "        cdf=norm.cdf(beta)-norm.cdf(alpha)\n",
    "        binomialRow.append(f\"{binomialSum:.4f}\") # add the calculated probablty to the appropriate row\n",
    "        NormalRow.append(f\"{normalInt[0]:.4g}\") # add the calculated probablty to the appropriate row\n",
    "        NormalRowCC.append(f\"{normalIntCC[0]:.4g}\") # add the calculated probablty to the appropriate row\n",
    "        NormalRowCCcdf.append(f\"{cdf:.4g}\") # add the calculated probablty to the appropriate row\n",
    "        #header.append(f\"P([{a},{b}])\") \n",
    "        table.append([b,f\"[{a}, {b}]\",f\"{binomialSum:.10f}\", f\"{normalInt[0]:.10f}\",f\"{normalIntCC[0]:.10f}\"])\n",
    "\n",
    "\n",
    "print(r\"The probability of rolling a even number on a 6 sided dice over 70% of the time\")\n",
    "display(Markdown(tabulate(table,headers=[\"Number of trials\",\"Interval\",\"Exact Probability\",\"Normal Probability Estimate\",\"Normal With Correction\"],tablefmt=\"pipe\")))"
   ]
  },
  {
   "cell_type": "code",
   "execution_count": 106,
   "metadata": {},
   "outputs": [
    {
     "name": "stdout",
     "output_type": "stream",
     "text": [
      "The probability of rolling 1 on a 6 sided dice over 20% of the time\n"
     ]
    },
    {
     "data": {
      "text/markdown": [
       "|   Number of trials | Interval      |   Exact Probability |   Normal Probability Estimate |   Normal With Correction |\n",
       "|-------------------:|:--------------|--------------------:|------------------------------:|-------------------------:|\n",
       "|                 10 | [2.0, 10]     |          0.515483   |                    0.388649   |               0.556231   |\n",
       "|                100 | [20.0, 100]   |          0.21975    |                    0.185547   |               0.223549   |\n",
       "|               1000 | [200.0, 1000] |          0.00318808 |                    0.00233887 |               0.00266814 |"
      ],
      "text/plain": [
       "<IPython.core.display.Markdown object>"
      ]
     },
     "metadata": {},
     "output_type": "display_data"
    }
   ],
   "source": [
    "import math \n",
    "import scipy.integrate as integrate\n",
    "from scipy.stats import binom\n",
    "from scipy.stats import norm\n",
    "from IPython.display import Markdown # Needed for the Markdown\n",
    "from tabulate import tabulate\n",
    "\n",
    "def binomialProb(k,n,p):\n",
    "  return binom.pmf(k,n,p)\n",
    "  \n",
    "def phi(x,mu,sigma):\n",
    "  return math.exp(-1/2*((x-mu)**2)/(sigma**2))/(math.sqrt(2*math.pi)*sigma)\n",
    "\n",
    "def sumProb(X,P,a,b):\n",
    "  PinInterval=[ p for (x,p) in zip(X,P) if ((x >= a) and (x<=b)) ]\n",
    "  return sum(PinInterval)\n",
    "\n",
    "\n",
    "p0=(1/6)\n",
    "parameters=[(10,p0),(100,p0),(1000,p0)]\n",
    "rows=int(len(parameters)/2.0+.9999)\n",
    "table  = []\n",
    "for figureNum, (n,p) in enumerate(parameters):\n",
    "    K=[x for x in range(n+1)]\n",
    "    B =[binomialProb(k,n,p)  for k in K ]\n",
    "    sigma=math.sqrt(p*n*(1-p))\n",
    "    mu=n*p\n",
    "    intervals=[(0.2*n,n)]\n",
    "\n",
    "\n",
    "    binomialRow=[f\"Binomial({n},{p})\"] # Put the row name in the vetor\n",
    "    NormalRow=[f\"N({mu},{sigma:.2f})\"]# Put the row name in the vetor\n",
    "    NormalRowCC=[f\"N({mu},{sigma:.2f})+Cont. Corr. by integration\"] # Put the row name in the vetor\n",
    "    NormalRowCCcdf=[f\"N({mu},{sigma:.2f})+Cont. Corr. by cdf\"] # Put the row name in the vetor\n",
    "    header=[\"Method\"] # This is the row that will be the header row of the table\n",
    "    for (a,b) in intervals:\n",
    "        binomialSum=sumProb(K,B,a,b)\n",
    "        normalInt=integrate.quad((lambda x: phi(x,mu,sigma)), a, b)\n",
    "        normalIntCC=integrate.quad((lambda x: phi(x,mu,sigma)), a-.5, b+.5)\n",
    "        alpha=(a-.5-mu)/sigma\n",
    "        beta=(b+.5-mu)/sigma\n",
    "        cdf=norm.cdf(beta)-norm.cdf(alpha)\n",
    "        binomialRow.append(f\"{binomialSum:.4f}\") # add the calculated probablty to the appropriate row\n",
    "        NormalRow.append(f\"{normalInt[0]:.4g}\") # add the calculated probablty to the appropriate row\n",
    "        NormalRowCC.append(f\"{normalIntCC[0]:.4g}\") # add the calculated probablty to the appropriate row\n",
    "        NormalRowCCcdf.append(f\"{cdf:.4g}\") # add the calculated probablty to the appropriate row\n",
    "        #header.append(f\"P([{a},{b}])\") \n",
    "        table.append([b,f\"[{a}, {b}]\",f\"{binomialSum:.10f}\", f\"{normalInt[0]:.10f}\",f\"{normalIntCC[0]:.10f}\"])\n",
    "\n",
    "\n",
    "print(r\"The probability of rolling 1 on a 6 sided dice over 20% of the time\")\n",
    "display(Markdown(tabulate(table,headers=[\"Number of trials\",\"Interval\",\"Exact Probability\",\"Normal Probability Estimate\",\"Normal With Correction\"],tablefmt=\"pipe\")))"
   ]
  },
  {
   "cell_type": "code",
   "execution_count": 102,
   "metadata": {},
   "outputs": [
    {
     "name": "stdout",
     "output_type": "stream",
     "text": [
      "The probability of rolling a 1 on a 20 sided dice over 9% of the time\n"
     ]
    },
    {
     "data": {
      "text/markdown": [
       "|   Number of trials | Interval                 |   Exact Probability |   Normal Probability Estimate |   Normal With Correction |\n",
       "|-------------------:|:-------------------------|--------------------:|------------------------------:|-------------------------:|\n",
       "|                 10 | [0.8999999999999999, 10] |           0.401263  |                     0.280829  |                0.557682  |\n",
       "|                100 | [9.0, 100]               |           0.0630896 |                     0.0332287 |                0.0541468 |\n",
       "|               1000 | [90.0, 1000]             |           9.74e-08  |                     3.3e-09   |                5.1e-09   |"
      ],
      "text/plain": [
       "<IPython.core.display.Markdown object>"
      ]
     },
     "metadata": {},
     "output_type": "display_data"
    }
   ],
   "source": [
    "import math \n",
    "import scipy.integrate as integrate\n",
    "from scipy.stats import binom\n",
    "from scipy.stats import norm\n",
    "from IPython.display import Markdown # Needed for the Markdown\n",
    "from tabulate import tabulate\n",
    "\n",
    "def binomialProb(k,n,p):\n",
    "  return binom.pmf(k,n,p)\n",
    "  \n",
    "def phi(x,mu,sigma):\n",
    "  return math.exp(-1/2*((x-mu)**2)/(sigma**2))/(math.sqrt(2*math.pi)*sigma)\n",
    "\n",
    "def sumProb(X,P,a,b):\n",
    "  PinInterval=[ p for (x,p) in zip(X,P) if ((x >= a) and (x<=b)) ]\n",
    "  return sum(PinInterval)\n",
    "\n",
    "\n",
    "p0=(1/20)\n",
    "parameters=[(10,p0),(100,p0),(1000,p0)]\n",
    "rows=int(len(parameters)/2.0+.9999)\n",
    "table  = []\n",
    "for figureNum, (n,p) in enumerate(parameters):\n",
    "    K=[x for x in range(n+1)]\n",
    "    B =[binomialProb(k,n,p)  for k in K ]\n",
    "    sigma=math.sqrt(p*n*(1-p))\n",
    "    mu=n*p\n",
    "    intervals=[(0.09*n,n)]\n",
    "\n",
    "\n",
    "    binomialRow=[f\"Binomial({n},{p})\"] # Put the row name in the vetor\n",
    "    NormalRow=[f\"N({mu},{sigma:.2f})\"]# Put the row name in the vetor\n",
    "    NormalRowCC=[f\"N({mu},{sigma:.2f})+Cont. Corr. by integration\"] # Put the row name in the vetor\n",
    "    NormalRowCCcdf=[f\"N({mu},{sigma:.2f})+Cont. Corr. by cdf\"] # Put the row name in the vetor\n",
    "    header=[\"Method\"] # This is the row that will be the header row of the table\n",
    "    for (a,b) in intervals:\n",
    "        binomialSum=sumProb(K,B,a,b)\n",
    "        normalInt=integrate.quad((lambda x: phi(x,mu,sigma)), a, b)\n",
    "        normalIntCC=integrate.quad((lambda x: phi(x,mu,sigma)), a-.5, b+.5)\n",
    "        alpha=(a-.5-mu)/sigma\n",
    "        beta=(b+.5-mu)/sigma\n",
    "        cdf=norm.cdf(beta)-norm.cdf(alpha)\n",
    "        binomialRow.append(f\"{binomialSum:.4f}\") # add the calculated probablty to the appropriate row\n",
    "        NormalRow.append(f\"{normalInt[0]:.4g}\") # add the calculated probablty to the appropriate row\n",
    "        NormalRowCC.append(f\"{normalIntCC[0]:.4g}\") # add the calculated probablty to the appropriate row\n",
    "        NormalRowCCcdf.append(f\"{cdf:.4g}\") # add the calculated probablty to the appropriate row\n",
    "        #header.append(f\"P([{a},{b}])\") \n",
    "        table.append([b,f\"[{a}, {b}]\",f\"{binomialSum:.10f}\", f\"{normalInt[0]:.10f}\",f\"{normalIntCC[0]:.10f}\"])\n",
    "\n",
    "\n",
    "print(r\"The probability of rolling a 1 on a 20 sided dice over 9% of the time\")\n",
    "display(Markdown(tabulate(table,headers=[\"Number of trials\",\"Interval\",\"Exact Probability\",\"Normal Probability Estimate\",\"Normal With Correction\"],tablefmt=\"pipe\")))"
   ]
  },
  {
   "cell_type": "markdown",
   "metadata": {},
   "source": [
    "Trends: I noticed that as the number of trials increased, the normal estimate with correction seemed to get more and more accurate. This makes sense because a binomial distribution begins looking more and more like a normal distribution as trials increase. Also as the probability of the events decreased the accuracy of the normal distribution estimate both with and without correction decreased as well. This makes sense because the binomial disttribution would be skewed which would not be captured by the normal distribution. As n increases the area which we were integrating decreases by a lot which increases the accuracy of the normal distribution because it becomes more concentrated around the expected value."
   ]
  },
  {
   "cell_type": "code",
   "execution_count": 44,
   "metadata": {},
   "outputs": [
    {
     "name": "stdout",
     "output_type": "stream",
     "text": [
      "One has Phi^(-1)(0.95)=1.644853626951472 \n"
     ]
    }
   ],
   "source": [
    "from scipy.stats import norm\n",
    "v=norm.ppf(0.95)\n",
    "print(f\"One has Phi^(-1)(0.95)={v} \") "
   ]
  },
  {
   "cell_type": "markdown",
   "metadata": {},
   "source": [
    "Monte Carlo"
   ]
  },
  {
   "cell_type": "code",
   "execution_count": 107,
   "metadata": {},
   "outputs": [
    {
     "name": "stdout",
     "output_type": "stream",
     "text": [
      "The predicted integral is 8.6685888\n",
      "In 1000 experiments with 5000 samples each, 0.906 of the samples were within 0.1856 from the mean\n"
     ]
    }
   ],
   "source": [
    "import matplotlib.pyplot as plt\n",
    "import random as rnd\n",
    "import math\n",
    "import numpy as np\n",
    "\n",
    "def f(x):\n",
    "  return (math.sin(2*x))*(math.cos(x))+1\n",
    "\n",
    "def monte_carlo_sample_integral(numberSamples):\n",
    "\n",
    "  samplesIn=[]\n",
    "  samplesOut=[] \n",
    "\n",
    "  for k in range(numberSamples):\n",
    "    x=8*rnd.random()\n",
    "    y=2*rnd.random()\n",
    "    if f(x) > y:  # Check to see if point is below curve y=f(x)\n",
    "      samplesIn.append([x,y]) # point below\n",
    "    else:\n",
    "      samplesOut.append([x,y]) # point above\n",
    "\n",
    "  numIn=len(samplesIn)    # number of points below\n",
    "  numOut=len(samplesOut)  # number of points above\n",
    "  p_hat=numIn/(numOut+numIn)\n",
    "  return p_hat,samplesIn,samplesOut\n",
    "\n",
    "\n",
    "times_to_run_monte_carlo_experiment=8000 # This is M\n",
    "times_to_run_monte_carlo_experiment=1000 # Make things RUNFAST\n",
    "numberSamples=5000\n",
    "\n",
    "p_hats=[]\n",
    "for j in range(times_to_run_monte_carlo_experiment):\n",
    "  p_hat,samplesIn,samplesOut=monte_carlo_sample_integral(numberSamples)\n",
    "  p_hats.append(p_hat)\n",
    "Int_hats=[16*p_hat for p_hat in p_hats] # multiply by area of rectangle=2.0\n",
    "mean = np.mean(Int_hats)\n",
    "print(f\"The predicted integral is {mean}\")\n",
    "\n",
    "p_diffs=[int_hat-mean for int_hat in Int_hats]\n",
    "\n",
    "\n",
    "## Find outliers \n",
    "withinBeta=0\n",
    "for p_diff in p_diffs:\n",
    "  if abs(p_diff) <= (0.1856):\n",
    "    withinBeta+=1\n",
    "nonOutliers= withinBeta/times_to_run_monte_carlo_experiment\n",
    "\n",
    "print(f\"In {times_to_run_monte_carlo_experiment} experiments with 5000 samples each, {nonOutliers} of the samples were within 0.1856 from the mean\")"
   ]
  },
  {
   "cell_type": "code",
   "execution_count": null,
   "metadata": {},
   "outputs": [],
   "source": []
  },
  {
   "cell_type": "code",
   "execution_count": 1,
   "metadata": {},
   "outputs": [
    {
     "name": "stdout",
     "output_type": "stream",
     "text": [
      "t\n"
     ]
    }
   ],
   "source": []
  },
  {
   "cell_type": "markdown",
   "metadata": {},
   "source": [
    "This makes my previous estimation look very good. My estimation was that we could be 90% confident that a given point would be at most 0.0116 away from the mean. The Monte Carlo experiment showed that this estimation was good because with lots of monte carlo experiments the amount of samples that were within my predicted bounds was very close to the expected 0.9."
   ]
  },
  {
   "cell_type": "markdown",
   "metadata": {},
   "source": [
    "6) 5) The true integral is is 8.66872. This compares very well to my predicted integral in the Monte Carlo estimation."
   ]
  }
 ],
 "metadata": {
  "kernelspec": {
   "display_name": "Python 3",
   "language": "python",
   "name": "python3"
  },
  "language_info": {
   "codemirror_mode": {
    "name": "ipython",
    "version": 3
   },
   "file_extension": ".py",
   "mimetype": "text/x-python",
   "name": "python",
   "nbconvert_exporter": "python",
   "pygments_lexer": "ipython3",
   "version": "3.12.3"
  }
 },
 "nbformat": 4,
 "nbformat_minor": 2
}
